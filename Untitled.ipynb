{
 "cells": [
  {
   "cell_type": "code",
   "execution_count": 37,
   "id": "480bd10f-87e2-4068-902f-086a0c9af2c5",
   "metadata": {},
   "outputs": [
    {
     "name": "stdout",
     "output_type": "stream",
     "text": [
      "True\n",
      "True\n",
      "False\n",
      "False\n",
      "False\n"
     ]
    }
   ],
   "source": [
    "def is_valid_hex__code(x):\n",
    "    l = len(x)\n",
    "    flag = 0\n",
    "    if x[0] == '#' and l <= 7:\n",
    "        for a in range(1, l):\n",
    "            if x[a] >= \"A\" and x[a] <= \"F\" or x[a] >= \"0\" and x[a] <= \"9\" or x[a] >= \"a\" and x[a] <= \"f\":\n",
    "                flag= flag + 1\n",
    "        if flag == 6:\n",
    "            print(\"True\")\n",
    "        else:\n",
    "            print(\"False\")\n",
    "    else:\n",
    "        print(\"False\")\n",
    "    \n",
    "is_valid_hex__code(\"#CD5C5C\")\n",
    "is_valid_hex__code(\"#eaecee\")\n",
    "is_valid_hex__code(\"#CD5C58C\")\n",
    "is_valid_hex__code(\"CD5C5Z\")\n",
    "is_valid_hex__code(\"CD5C&C\")"
   ]
  }
 ],
 "metadata": {
  "kernelspec": {
   "display_name": "Python 3 (ipykernel)",
   "language": "python",
   "name": "python3"
  },
  "language_info": {
   "codemirror_mode": {
    "name": "ipython",
    "version": 3
   },
   "file_extension": ".py",
   "mimetype": "text/x-python",
   "name": "python",
   "nbconvert_exporter": "python",
   "pygments_lexer": "ipython3",
   "version": "3.8.10"
  }
 },
 "nbformat": 4,
 "nbformat_minor": 5
}
